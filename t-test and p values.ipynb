{
 "cells": [
  {
   "cell_type": "markdown",
   "metadata": {},
   "source": [
    "# Independent two-sample t-test\n",
    "> Equal sample sizes, equal variance"
   ]
  },
  {
   "cell_type": "code",
   "execution_count": 13,
   "metadata": {},
   "outputs": [
    {
     "name": "stdout",
     "output_type": "stream",
     "text": [
      "t = 3.14243299796\n",
      "p = 0.00563099362475\n",
      "t = 3.14243299796\n",
      "p = 0.0112619872495\n"
     ]
    }
   ],
   "source": [
    "## Import the packages\n",
    "import numpy as np\n",
    "from scipy import stats\n",
    "\n",
    "\n",
    "## Define 2 random distributions\n",
    "#Sample Size\n",
    "N = 10\n",
    "#Gaussian distributed data with mean = 2 and var = 1\n",
    "a = np.random.randn(N) + 2\n",
    "#Gaussian distributed data with with mean = 0 and var = 1\n",
    "b = np.random.randn(N)\n",
    "\n",
    "## Calculate the pooled standard deviation for N = n1 = n2 \n",
    "#Calculate the unbiased estimators of the variances of the two samples to get the pooled standard deviation \n",
    "\n",
    "#For unbiased max likelihood estimate we have to divide the var by N-1, and therefore the parameter ddof = 1\n",
    "var_a = a.var(ddof=1)\n",
    "var_b = b.var(ddof=1)\n",
    "\n",
    "#std deviation\n",
    "s = np.sqrt((var_a + var_b)/2)\n",
    "\n",
    "## Calculate the t-statistics\n",
    "t = (a.mean() - b.mean())/(s*np.sqrt(2/N))\n",
    "\n",
    "#Degrees of freedom (nx + ny)-2\n",
    "df = 2*N - 2\n",
    "\n",
    "#p-value after comparison with the t \n",
    "p = 1 - stats.t.cdf(t,df=df)\n",
    "\n",
    "# For a two tail t-test multiply the p value by 2\n",
    "p = 2*p\n",
    "\n",
    "print(\"t = \" + str(t))\n",
    "print(\"p = \" + str(p))\n",
    "\n",
    "'''You can see that after comparing the t statistic with the critical t value (computed internally) \\\n",
    "we get a good p value of 0.0005 and thus we reject the null hypothesis and thus it proves that the mean \\\n",
    "of the two distributions are different and statistically significant.''' \n",
    "\n",
    "\n",
    "## Cross Checking with the internal scipy function\n",
    "t2, p2 = stats.ttest_ind(a,b)\n",
    "print(\"t = \" + str(t2))\n",
    "print(\"p = \" + str(2*p2))\n"
   ]
  },
  {
   "cell_type": "markdown",
   "metadata": {},
   "source": [
    "## Can use scipy special function stdtr to Student t distribution cumulative density function"
   ]
  },
  {
   "cell_type": "code",
   "execution_count": 6,
   "metadata": {},
   "outputs": [
    {
     "data": {
      "text/plain": [
       "0.99999117872215737"
      ]
     },
     "execution_count": 6,
     "metadata": {},
     "output_type": "execute_result"
    }
   ],
   "source": [
    "stats.t.cdf(t, 18)"
   ]
  },
  {
   "cell_type": "code",
   "execution_count": 10,
   "metadata": {},
   "outputs": [
    {
     "data": {
      "text/plain": [
       "0.99999117872215737"
      ]
     },
     "execution_count": 10,
     "metadata": {},
     "output_type": "execute_result"
    }
   ],
   "source": [
    "from scipy.special import stdtr\n",
    "stdtr(df, t)"
   ]
  },
  {
   "cell_type": "markdown",
   "metadata": {},
   "source": [
    "# One-sample t-test"
   ]
  },
  {
   "cell_type": "code",
   "execution_count": 79,
   "metadata": {},
   "outputs": [
    {
     "name": "stdout",
     "output_type": "stream",
     "text": [
      "t-statistic =  1.731 pvalue = 0.0835\n"
     ]
    }
   ],
   "source": [
    "## Import the packages\n",
    "import numpy as np\n",
    "from scipy import stats\n",
    "from scipy.stats import norm\n",
    "\n",
    "np.random.seed(1234)\n",
    "#sample\n",
    "N = 5000\n",
    "\n",
    "#degree of freedom\n",
    "dof = N-1\n",
    "\n",
    "#population mean\n",
    "mu = 3\n",
    "stdev = 0.3\n",
    "\n",
    "#d = np.random.randn(N) + mu\n",
    "\n",
    "## Define a normal random distribution\n",
    "# for the standard normal distribution the location is the mean and the scale is the standard deviation.\n",
    "\n",
    "pop = norm.stats(loc=mu, scale=stdev, moments=\"mv\")\n",
    "\n",
    "#sample\n",
    "x = norm.rvs(mu, size = N)  #### it is importance to pass loc arg to the random variate gen step else the default\\\n",
    "                               ### loc = 0 will be used to generate the sample \n",
    "\n",
    "# Sample mean\n",
    "xbar = x.mean()\n",
    "\n",
    "# Sample std dev\n",
    "xsd = x.std()\n",
    "\n",
    "# t-test\n",
    "ttest = (xbar - mu)/(xsd/(np.sqrt(N)))\n",
    "\n",
    "# p-value using (stats.t.sf) a survival function\n",
    "pval = stats.t.sf(np.abs(ttest), dof) *2         ###### x2 for two-tail t-test\n",
    "\n",
    "print('t-statistic = %6.3f pvalue = %6.4f' % (ttest, pval))"
   ]
  },
  {
   "cell_type": "code",
   "execution_count": 80,
   "metadata": {
    "scrolled": true
   },
   "outputs": [
    {
     "data": {
      "text/plain": [
       "NormaltestResult(statistic=2.1397924658622252, pvalue=0.34304411225391662)"
      ]
     },
     "execution_count": 80,
     "metadata": {},
     "output_type": "execute_result"
    }
   ],
   "source": [
    "stats.normaltest(x)"
   ]
  },
  {
   "cell_type": "code",
   "execution_count": 81,
   "metadata": {},
   "outputs": [
    {
     "data": {
      "text/plain": [
       "(KurtosistestResult(statistic=-1.0079521084520224, pvalue=0.31347745408243732),\n",
       " SkewtestResult(statistic=-1.0601061328609263, pvalue=0.28909631803807034))"
      ]
     },
     "execution_count": 81,
     "metadata": {},
     "output_type": "execute_result"
    }
   ],
   "source": [
    "stats.kurtosistest(x), stats.skewtest(x)"
   ]
  },
  {
   "cell_type": "code",
   "execution_count": 82,
   "metadata": {},
   "outputs": [
    {
     "data": {
      "image/png": "[encoded data removed]",
      "text/plain": [
       "<matplotlib.figure.Figure at 0x1a12ac7f60>"
      ]
     },
     "metadata": {},
     "output_type": "display_data"
    }
   ],
   "source": [
    "import matplotlib.pyplot as plt\n",
    "plt.hist(x, bins= 40, rwidth = .92)\n",
    "plt.show()"
   ]
  },
  {
   "cell_type": "markdown",
   "metadata": {},
   "source": [
    "# Verify one sample t-test using built in scipy function"
   ]
  },
  {
   "cell_type": "code",
   "execution_count": 85,
   "metadata": {},
   "outputs": [
    {
     "name": "stdout",
     "output_type": "stream",
     "text": [
      "t = 1.73073026615\n",
      "p = 0.0835615923199\n"
     ]
    }
   ],
   "source": [
    "t3, p3 = stats.ttest_1samp(x, mu)\n",
    "print(\"t = \" + str(t3))\n",
    "print(\"p = \" + str(p3))"
   ]
  },
  {
   "cell_type": "markdown",
   "metadata": {},
   "source": [
    "## Comments for one sided t-test and p-value\n",
    "\n",
    "\n",
    "\n",
    "    because the one-sided tests can be backed out from the two-sided tests. (With symmetric distributions one-sided p-value is just half of the two-sided pvalue)\n",
    "\n",
    "It goes on to say that scipy always gives the test statistic as signed. This means that given p and t values from a two-tailed test, you would reject the null hypothesis of a greater-than test when p/2 < alpha and t > 0, and of a less-than test when p/2 < alpha and t < 0."
   ]
  },
  {
   "cell_type": "code",
   "execution_count": null,
   "metadata": {},
   "outputs": [],
   "source": []
  }
 ],
 "metadata": {
  "kernelspec": {
   "display_name": "Python 3",
   "language": "python",
   "name": "python3"
  },
  "language_info": {
   "codemirror_mode": {
    "name": "ipython",
    "version": 3
   },
   "file_extension": ".py",
   "mimetype": "text/x-python",
   "name": "python",
   "nbconvert_exporter": "python",
   "pygments_lexer": "ipython3",
   "version": "3.6.3"
  }
 },
 "nbformat": 4,
 "nbformat_minor": 2
}
